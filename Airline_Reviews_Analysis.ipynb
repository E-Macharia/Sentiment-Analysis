{
 "cells": [
  {
   "cell_type": "markdown",
   "metadata": {},
   "source": [
    " # Task 2 Analysis\n"
   ]
  },
  {
   "cell_type": "code",
   "execution_count": 1,
   "metadata": {},
   "outputs": [],
   "source": [
    "# Creating a new column called 'SENTIMENT' that contains the sentiment scores of each review using nltk\n",
    "from nltk.sentiment import vader\n",
    "import nltk\n",
    "import matplotlib.pyplot as plt\n",
    "import requests\n",
    "from collections import Counter\n",
    "import pandas as pd"
   ]
  },
  {
   "cell_type": "code",
   "execution_count": 3,
   "metadata": {},
   "outputs": [],
   "source": [
    " #Read in the reviews data from a CSV file\n",
    "sentiment_analysis_df = pd.read_csv(r\"C:\\Users\\HomePC\\Downloads\\sentiment_content.csv\")"
   ]
  },
  {
   "cell_type": "code",
   "execution_count": 5,
   "metadata": {},
   "outputs": [
    {
     "name": "stderr",
     "output_type": "stream",
     "text": [
      "[nltk_data] Downloading package vader_lexicon to\n",
      "[nltk_data]     C:\\Users\\HomePC\\AppData\\Roaming\\nltk_data...\n"
     ]
    },
    {
     "data": {
      "text/plain": [
       "True"
      ]
     },
     "execution_count": 5,
     "metadata": {},
     "output_type": "execute_result"
    }
   ],
   "source": [
    "import nltk\n",
    "nltk.downloader.download('vader_lexicon')"
   ]
  },
  {
   "cell_type": "code",
   "execution_count": null,
   "metadata": {},
   "outputs": [
    {
     "data": {
      "text/html": [
       "<div>\n",
       "<style scoped>\n",
       "    .dataframe tbody tr th:only-of-type {\n",
       "        vertical-align: middle;\n",
       "    }\n",
       "\n",
       "    .dataframe tbody tr th {\n",
       "        vertical-align: top;\n",
       "    }\n",
       "\n",
       "    .dataframe thead th {\n",
       "        text-align: right;\n",
       "    }\n",
       "</style>\n",
       "<table border=\"1\" class=\"dataframe\">\n",
       "  <thead>\n",
       "    <tr style=\"text-align: right;\">\n",
       "      <th></th>\n",
       "      <th>CONTENT</th>\n",
       "      <th>SENTIMENT</th>\n",
       "    </tr>\n",
       "  </thead>\n",
       "  <tbody>\n",
       "    <tr>\n",
       "      <th>0</th>\n",
       "      <td>Stupidly tried BA again after a five year gap ...</td>\n",
       "      <td>-0.9281</td>\n",
       "    </tr>\n",
       "    <tr>\n",
       "      <th>1</th>\n",
       "      <td>Not Verified |  Seat horribly narrow; 3-4-3 on...</td>\n",
       "      <td>0.9507</td>\n",
       "    </tr>\n",
       "    <tr>\n",
       "      <th>2</th>\n",
       "      <td>Glasgow to London delayed by 1 hour. My wife a...</td>\n",
       "      <td>-0.5984</td>\n",
       "    </tr>\n",
       "    <tr>\n",
       "      <th>3</th>\n",
       "      <td>When I tried to check in online, I was offered...</td>\n",
       "      <td>0.9867</td>\n",
       "    </tr>\n",
       "    <tr>\n",
       "      <th>4</th>\n",
       "      <td>I flew from Prague to LHR. Excellent service, ...</td>\n",
       "      <td>0.2669</td>\n",
       "    </tr>\n",
       "    <tr>\n",
       "      <th>...</th>\n",
       "      <td>...</td>\n",
       "      <td>...</td>\n",
       "    </tr>\n",
       "    <tr>\n",
       "      <th>1995</th>\n",
       "      <td>We were treated incredibly well and staff made...</td>\n",
       "      <td>0.9606</td>\n",
       "    </tr>\n",
       "    <tr>\n",
       "      <th>1996</th>\n",
       "      <td>I was scheduled to be on BA 114 from JFK to LH...</td>\n",
       "      <td>0.9401</td>\n",
       "    </tr>\n",
       "    <tr>\n",
       "      <th>1997</th>\n",
       "      <td>British Airways from London Heathrow to New Yo...</td>\n",
       "      <td>0.8232</td>\n",
       "    </tr>\n",
       "    <tr>\n",
       "      <th>1998</th>\n",
       "      <td>We flew British Airways BA2678 from Gatwick to...</td>\n",
       "      <td>0.8225</td>\n",
       "    </tr>\n",
       "    <tr>\n",
       "      <th>1999</th>\n",
       "      <td>Flew British Airways London Heathrow to Warsaw...</td>\n",
       "      <td>-0.3818</td>\n",
       "    </tr>\n",
       "  </tbody>\n",
       "</table>\n",
       "<p>2000 rows × 2 columns</p>\n",
       "</div>"
      ],
      "text/plain": [
       "                                                CONTENT  SENTIMENT\n",
       "0     Stupidly tried BA again after a five year gap ...    -0.9281\n",
       "1     Not Verified |  Seat horribly narrow; 3-4-3 on...     0.9507\n",
       "2     Glasgow to London delayed by 1 hour. My wife a...    -0.5984\n",
       "3     When I tried to check in online, I was offered...     0.9867\n",
       "4     I flew from Prague to LHR. Excellent service, ...     0.2669\n",
       "...                                                 ...        ...\n",
       "1995  We were treated incredibly well and staff made...     0.9606\n",
       "1996  I was scheduled to be on BA 114 from JFK to LH...     0.9401\n",
       "1997  British Airways from London Heathrow to New Yo...     0.8232\n",
       "1998  We flew British Airways BA2678 from Gatwick to...     0.8225\n",
       "1999  Flew British Airways London Heathrow to Warsaw...    -0.3818\n",
       "\n",
       "[2000 rows x 2 columns]"
      ]
     },
     "execution_count": 6,
     "metadata": {},
     "output_type": "execute_result"
    }
   ],
   "source": [
    "# an instance of SentimentIntensityAnalyzer\n",
    "sentiment_analyzer = vader.SentimentIntensityAnalyzer()\n",
    "\n",
    "# a new column named 'SENTIMENT'\n",
    "sentiment_analysis_df['SENTIMENT'] = sentiment_analysis_df['CONTENT'].apply(\n",
    "    lambda review: sentiment_analyzer.polarity_scores(review)['compound']\n",
    "    )\n",
    "sentiment_analysis_dfb"
   ]
  },
  {
   "cell_type": "code",
   "execution_count": 7,
   "metadata": {},
   "outputs": [
    {
     "data": {
      "text/html": [
       "<div>\n",
       "<style scoped>\n",
       "    .dataframe tbody tr th:only-of-type {\n",
       "        vertical-align: middle;\n",
       "    }\n",
       "\n",
       "    .dataframe tbody tr th {\n",
       "        vertical-align: top;\n",
       "    }\n",
       "\n",
       "    .dataframe thead th {\n",
       "        text-align: right;\n",
       "    }\n",
       "</style>\n",
       "<table border=\"1\" class=\"dataframe\">\n",
       "  <thead>\n",
       "    <tr style=\"text-align: right;\">\n",
       "      <th></th>\n",
       "      <th>CONTENT</th>\n",
       "      <th>SENTIMENT</th>\n",
       "      <th>SENTIMENT_TYPE</th>\n",
       "    </tr>\n",
       "  </thead>\n",
       "  <tbody>\n",
       "    <tr>\n",
       "      <th>0</th>\n",
       "      <td>Stupidly tried BA again after a five year gap ...</td>\n",
       "      <td>-0.9281</td>\n",
       "      <td>negative</td>\n",
       "    </tr>\n",
       "    <tr>\n",
       "      <th>1</th>\n",
       "      <td>Not Verified |  Seat horribly narrow; 3-4-3 on...</td>\n",
       "      <td>0.9507</td>\n",
       "      <td>positive</td>\n",
       "    </tr>\n",
       "    <tr>\n",
       "      <th>2</th>\n",
       "      <td>Glasgow to London delayed by 1 hour. My wife a...</td>\n",
       "      <td>-0.5984</td>\n",
       "      <td>negative</td>\n",
       "    </tr>\n",
       "    <tr>\n",
       "      <th>3</th>\n",
       "      <td>When I tried to check in online, I was offered...</td>\n",
       "      <td>0.9867</td>\n",
       "      <td>positive</td>\n",
       "    </tr>\n",
       "    <tr>\n",
       "      <th>4</th>\n",
       "      <td>I flew from Prague to LHR. Excellent service, ...</td>\n",
       "      <td>0.2669</td>\n",
       "      <td>positive</td>\n",
       "    </tr>\n",
       "    <tr>\n",
       "      <th>...</th>\n",
       "      <td>...</td>\n",
       "      <td>...</td>\n",
       "      <td>...</td>\n",
       "    </tr>\n",
       "    <tr>\n",
       "      <th>1995</th>\n",
       "      <td>We were treated incredibly well and staff made...</td>\n",
       "      <td>0.9606</td>\n",
       "      <td>positive</td>\n",
       "    </tr>\n",
       "    <tr>\n",
       "      <th>1996</th>\n",
       "      <td>I was scheduled to be on BA 114 from JFK to LH...</td>\n",
       "      <td>0.9401</td>\n",
       "      <td>positive</td>\n",
       "    </tr>\n",
       "    <tr>\n",
       "      <th>1997</th>\n",
       "      <td>British Airways from London Heathrow to New Yo...</td>\n",
       "      <td>0.8232</td>\n",
       "      <td>positive</td>\n",
       "    </tr>\n",
       "    <tr>\n",
       "      <th>1998</th>\n",
       "      <td>We flew British Airways BA2678 from Gatwick to...</td>\n",
       "      <td>0.8225</td>\n",
       "      <td>positive</td>\n",
       "    </tr>\n",
       "    <tr>\n",
       "      <th>1999</th>\n",
       "      <td>Flew British Airways London Heathrow to Warsaw...</td>\n",
       "      <td>-0.3818</td>\n",
       "      <td>negative</td>\n",
       "    </tr>\n",
       "  </tbody>\n",
       "</table>\n",
       "<p>2000 rows × 3 columns</p>\n",
       "</div>"
      ],
      "text/plain": [
       "                                                CONTENT  SENTIMENT  \\\n",
       "0     Stupidly tried BA again after a five year gap ...    -0.9281   \n",
       "1     Not Verified |  Seat horribly narrow; 3-4-3 on...     0.9507   \n",
       "2     Glasgow to London delayed by 1 hour. My wife a...    -0.5984   \n",
       "3     When I tried to check in online, I was offered...     0.9867   \n",
       "4     I flew from Prague to LHR. Excellent service, ...     0.2669   \n",
       "...                                                 ...        ...   \n",
       "1995  We were treated incredibly well and staff made...     0.9606   \n",
       "1996  I was scheduled to be on BA 114 from JFK to LH...     0.9401   \n",
       "1997  British Airways from London Heathrow to New Yo...     0.8232   \n",
       "1998  We flew British Airways BA2678 from Gatwick to...     0.8225   \n",
       "1999  Flew British Airways London Heathrow to Warsaw...    -0.3818   \n",
       "\n",
       "     SENTIMENT_TYPE  \n",
       "0          negative  \n",
       "1          positive  \n",
       "2          negative  \n",
       "3          positive  \n",
       "4          positive  \n",
       "...             ...  \n",
       "1995       positive  \n",
       "1996       positive  \n",
       "1997       positive  \n",
       "1998       positive  \n",
       "1999       negative  \n",
       "\n",
       "[2000 rows x 3 columns]"
      ]
     },
     "execution_count": 7,
     "metadata": {},
     "output_type": "execute_result"
    }
   ],
   "source": [
    "# Creating another new column called 'SENTIMENT_TYPE' that contains the type of sentiment of each review using nltk\n",
    "# for each sentiment score in the 'SENTIMENT' column\n",
    "sentiment_analysis_df['SENTIMENT_TYPE'] = sentiment_analysis_df['SENTIMENT'].apply(\n",
    "    lambda score: 'positive' if score > 0 else ('negative' if score < 0 else 'neutral')\n",
    "    )\n",
    "sentiment_analysis_df"
   ]
  },
  {
   "cell_type": "code",
   "execution_count": 8,
   "metadata": {},
   "outputs": [
    {
     "data": {
      "image/png": "[encoded data removed]",
      "text/plain": [
       "<Figure size 640x480 with 1 Axes>"
      ]
     },
     "metadata": {},
     "output_type": "display_data"
    }
   ],
   "source": [
    "# calculate the percentage of each type of sentiment score\n",
    "sentiment_type_percentages = sentiment_analysis_df['SENTIMENT_TYPE'].value_counts(normalize=True) * 100\n",
    "\n",
    "# create the pie chart\n",
    "fig, ax = plt.subplots()\n",
    "ax.pie(\n",
    "    sentiment_type_percentages,\n",
    "    labels=sentiment_type_percentages.index, \n",
    "    colors=['green', 'red', 'grey'], \n",
    "    explode=[0.1, 0, 0], \n",
    "    autopct='%1.1f%%'\n",
    "    )\n",
    "\n",
    "plt.show()"
   ]
  },
  {
   "cell_type": "markdown",
   "metadata": {},
   "source": [
    "# Sentiment"
   ]
  },
  {
   "cell_type": "code",
   "execution_count": 10,
   "metadata": {},
   "outputs": [],
   "source": [
    "#Saving the new data into a csv\n",
    "sentiment_analysis_df.to_csv(r\"C:\\Users\\HomePC\\Downloads\\sentiment_content.csv\")"
   ]
  },
  {
   "cell_type": "code",
   "execution_count": 12,
   "metadata": {},
   "outputs": [
    {
     "name": "stderr",
     "output_type": "stream",
     "text": [
      "[nltk_data] Downloading package stopwords to\n",
      "[nltk_data]     C:\\Users\\HomePC\\AppData\\Roaming\\nltk_data...\n",
      "[nltk_data]   Unzipping corpora\\stopwords.zip.\n"
     ]
    },
    {
     "data": {
      "text/plain": [
       "True"
      ]
     },
     "execution_count": 12,
     "metadata": {},
     "output_type": "execute_result"
    }
   ],
   "source": [
    "import nltk\n",
    "nltk.download('stopwords')"
   ]
  },
  {
   "cell_type": "code",
   "execution_count": 13,
   "metadata": {},
   "outputs": [
    {
     "data": {
      "image/png": "[encoded data removed]",
      "text/plain": [
       "<Figure size 640x480 with 1 Axes>"
      ]
     },
     "metadata": {},
     "output_type": "display_data"
    }
   ],
   "source": [
    "# The frequency chart shows the key topics within the \n",
    "# reviews showing what people are actively talking about their experience and staff\n",
    "\n",
    "# Get the reviews from the dataframe\n",
    "reviews = sentiment_analysis_df['CONTENT']\n",
    "\n",
    "# Convert the reviews to a list of words\n",
    "words = []\n",
    "for review in reviews:\n",
    "    words.extend(review.split())\n",
    "\n",
    "# Filter out the stubborn stop words that don't want to disappear\n",
    "stopwords = nltk.corpus.stopwords.words('english')\n",
    "key_words = [word for word in words if word not in stopwords and word not in ['I', 'The','would','one','get','-']]\n",
    "\n",
    "# Get the top 20 most used key words\n",
    "word_counts = Counter(key_words)\n",
    "top_20_words = word_counts.most_common(20)\n",
    "\n",
    "# Filter out the stop words \n",
    "filtered_words = [\n",
    "    (word, count) for word, count in top_20_words if word not in stopwords and word not in ['I', 'The','would','one','get','-']\n",
    "    ]\n",
    "\n",
    "# Get the labels and values for the histogram\n",
    "labels, values = zip(*top_20_words)\n",
    "\n",
    "# Create the histogram\n",
    "plt.bar(labels, values)\n",
    "\n",
    "# Set the x-axis labels to be vertical\n",
    "plt.xticks(rotation=90)\n",
    "\n",
    "#Display the plot\n",
    "plt.show()"
   ]
  }
 ],
 "metadata": {
  "kernelspec": {
   "display_name": "base",
   "language": "python",
   "name": "python3"
  },
  "language_info": {
   "codemirror_mode": {
    "name": "ipython",
    "version": 3
   },
   "file_extension": ".py",
   "mimetype": "text/x-python",
   "name": "python",
   "nbconvert_exporter": "python",
   "pygments_lexer": "ipython3",
   "version": "3.12.7"
  }
 },
 "nbformat": 4,
 "nbformat_minor": 2
}
